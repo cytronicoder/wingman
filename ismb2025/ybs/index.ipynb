{
 "cells": [
  {
   "attachments": {},
   "cell_type": "markdown",
   "metadata": {},
   "source": [
    "# Plotting with Python\n",
    "\n",
    "# Plotting with Python\n",
    "\n",
    "## Why make graphs with code?\n",
    "\n",
    "Graphs help people understand data quickly - much faster than looking at huge tables full of numbers. You've probably made a graph in MicroSoft Excel by clicking buttons and changing settings. That's fine for one or two graphs, but:\n",
    "\n",
    "-   What if you needed to make **10**, **100**, or even **1,000** graphs?\n",
    "-   Doing it all by hand would take *ages* and could lead to mistakes!\n",
    "\n",
    "Using **Python**, we can:\n",
    "\n",
    "-   Write instructions to make the graph for us\n",
    "-   Re-use the same code for lots of different data\n",
    "-   Save time and make fewer errors\n",
    "-   Create really professional-looking graphs - like the ones used in the news, by scientists, or in apps and websites.\n",
    "\n",
    "## Who uses this?\n",
    "\n",
    "-   **Data scientists** use Python to help explain results to **doctors**, **politicians**, and **business leaders**\n",
    "-   The code helps people make big decisions using data!\n",
    "\n",
    "## What you'll do\n",
    "\n",
    "-   You'll make your **own graphs using Python**\n",
    "-   Don't worry if you've never used Python before - that's OK!\n",
    "-   We'll give you code to start with\n",
    "-   You'll just edit parts of it to see what happens\n",
    "\n",
    "> ⚠️ *You might not understand everything in the code - and that's totally normal! Even professional programmers don't always understand it all straight away. Just have a go, and don't be afraid to make mistakes.*\n",
    "\n",
    "<br> <br>"
   ]
  },
  {
   "attachments": {},
   "cell_type": "markdown",
   "metadata": {},
   "source": [
    "## Animal ageing\n",
    "\n",
    "Some animals live *really* long lives. The oldest human ever was a French woman named Jeanne Calment - she lived to the age of <b>122 years and 164 days!</b> That's pretty impressive... but some animals can live even longer.\n",
    "\n",
    "What's their secret? Scientists are trying to find out - and if they do, it could help us understand how to live longer, healthier lives too. Below are some examples of long-lived animals:\n",
    "\n",
    "<br>\n",
    "<center>\n",
    "\n",
    "<img src=\"images/long_lived_animals.png\" alt=\"Long lived animals\"/>\n",
    "\n",
    "</center>\n",
    "<br>\n",
    "\n",
    "\n",
    "In this activity, you'll use Python to make plots showing how long different animals can live. You'll get to customise your graphs and compare short- and long-lived species.\n",
    "\n",
    "**What you'll learn**\n",
    "\n",
    "-   Some animals live *way* longer than others - we'll find out which!\n",
    "\n",
    "-   How to use Python to explore real data\n",
    "\n",
    "-   How to make custom plots showing animal lifespans\n",
    "\n",
    "<br>\n",
    "\n",
    "<br>\n",
    "\n",
    "### Load packages\n",
    "\n",
    "Python does not know how to process and plot data on its own. Python packages contain additional commands that don’t come installed with Python, and allow us to carry out certain extra tasks.\n",
    "\n",
    "In this activity we'll use two important ones:\n",
    "\n",
    "-   `pandas` - lets python read and edit data (much like you'd use Excel to process raw data)\n",
    "\n",
    "-   `matplotlib` - helps us draw graphs and plots\n",
    "\n",
    "To use them, copy and paste the code below into your first code chunk, then press the play button:\n",
    "\n"
   ]
  },
  {
   "cell_type": "code",
   "execution_count": null,
   "metadata": {},
   "outputs": [],
   "source": [
    "import pandas as pd\n",
    "import matplotlib.pyplot as plt"
   ]
  },
  {
   "attachments": {},
   "cell_type": "markdown",
   "metadata": {},
   "source": [
    "<br>\n",
    "\n",
    "As part of this code, we *rename* the packages to something shorter.`matplotlib.pyplot` is quite a lot of letters to type every time! Each time we drew a plot we'd have to type:\n",
    "\n",
    "`matplotlib.pyplot.plot`\n",
    "\n",
    "<br>\n",
    "\n",
    "Instead, we can rename the package as we load it to something simple and easy to remember. In this case `plt`. So the above line of code would become:\n",
    "\n",
    "`plt.plot`\n",
    "\n",
    "<br>\n",
    "\n",
    "In summary, this is how we load and rename a package:\n",
    "\n",
    "<br>\n",
    "<center>\n",
    "\n",
    "<img src=\"https://github.com/ejjohnson93/outreach_jupyter/blob/main/images/import2.png?raw=true\" alt=\"Alternative text\" width=\"400\"/>\n",
    "\n",
    "</center>\n",
    "<br><br>"
   ]
  },
  {
   "attachments": {},
   "cell_type": "markdown",
   "metadata": {},
   "source": [
    "### Load the data\n",
    "\n",
    "Next we are going to load our animal ageing data. The data we're going to be using can be found [here](https://raw.githubusercontent.com/CBFLivUni/scholars_event/refs/heads/main/data/animal_ageing_data.csv). We are going to load it using the package mentioned earlier 'pandas'. Remember, we have loaded 'pandas' and renamed it to 'pd'.\n",
    "\n",
    "<br>\n",
    "\n",
    "The code to load the data is below."
   ]
  },
  {
   "cell_type": "code",
   "execution_count": null,
   "metadata": {},
   "outputs": [],
   "source": [
    "data = pd.read_csv(\"data/animal_ageing_data.csv\")"
   ]
  },
  {
   "attachments": {},
   "cell_type": "markdown",
   "metadata": {},
   "source": [
    "We use the `read_csv` function contained inside the 'pandas' package to load the data at the url. We then store it in a *variable* called 'data' using the equals sign.\n",
    "\n",
    "We can view the data by typing the name of the variable in a code chunk:"
   ]
  },
  {
   "cell_type": "code",
   "execution_count": null,
   "metadata": {},
   "outputs": [],
   "source": [
    "data"
   ]
  },
  {
   "attachments": {},
   "cell_type": "markdown",
   "metadata": {},
   "source": [
    "### Inspect and format data"
   ]
  },
  {
   "attachments": {},
   "cell_type": "markdown",
   "metadata": {},
   "source": [
    "There are lots of rows and columns in our data. In the code below we will extract just the oldest animals from the data, and then we will print out their names and lifespans."
   ]
  },
  {
   "cell_type": "code",
   "execution_count": null,
   "metadata": {},
   "outputs": [],
   "source": [
    "oldest_animal = data.loc[data[\"Maximum longevity (yrs)\"] == data[\"Maximum longevity (yrs)\"].max()]\n",
    "oldest_animal_name = oldest_animal[\"Common name\"].values[0]\n",
    "oldest_animal_livespan = oldest_animal[\"Maximum longevity (yrs)\"].values[0]\n",
    "print(f\"The oldest animal is the {oldest_animal_name} with a lifespan of {oldest_animal_livespan} years.\")"
   ]
  },
  {
   "cell_type": "markdown",
   "metadata": {},
   "source": [
    "In this code we take our data and sort it in order of longevity. We tell it NOT to do it in ascending order by saying `ascending=False`. We take the top 8 by including `head(8)`. We then save it in a new variable called 'oldest animals'.\n",
    "\n",
    "After that, we print the two colums we are interested in (\"Common name\" and \"Maximum longevity\" (yrs)\"). Do any of these animals surprise you?\n",
    "\n",
    "<br>\n",
    "\n",
    "\n",
    " ><b>Challenges</b><br><br>\n",
    " >1. Can you modify the above code so that 'oldest_animals' has the 12 most long-lived animals instead? <br>\n",
    " >2. Can you make another variable called 'shortest_lived_animals' that has the 12 most short-lived animals? <br>\n",
    "\n"
   ]
  },
  {
   "cell_type": "code",
   "execution_count": null,
   "metadata": {},
   "outputs": [],
   "source": [
    "oldest_animals = data.sort_values(by=\"Maximum longevity (yrs)\", ascending=False).head(12)"
   ]
  },
  {
   "cell_type": "code",
   "execution_count": null,
   "metadata": {},
   "outputs": [],
   "source": [
    "shortest_lived_animal = data.sort_values(by=\"Maximum longevity (yrs)\").head(12)"
   ]
  },
  {
   "cell_type": "markdown",
   "metadata": {},
   "source": [
    "### Plot the data!"
   ]
  },
  {
   "cell_type": "markdown",
   "metadata": {},
   "source": [
    "\n",
    "We are now going to create a simple horizontal bar plot of the 12 most long-lived animals. In the code below:\n",
    "\n",
    "-   The first line sets the size of the figure.\n",
    "-   The second line creates a *horizontal* bar plot (this is a normal bar plot rotated 90 degrees).\n",
    "-   The third line tells Python to display the plot."
   ]
  },
  {
   "cell_type": "code",
   "execution_count": null,
   "metadata": {},
   "outputs": [],
   "source": [
    "fig, ax = plt.subplots(figsize=(10, 8))\n",
    "oldest_animals.plot(kind='barh', x='Common name', y='Maximum longevity (yrs)', ax=ax, color='black')\n",
    "plt.show()"
   ]
  },
  {
   "cell_type": "markdown",
   "metadata": {},
   "source": [
    "So far this is quite a simple plot, and it doesn't have any labels or units for the x- and y- axes - this would be considered a poor graph in reality!\n",
    "\n",
    "With matplotlib (our Python plotting package) we can keep adding layers of new information to our plot. We are now going to fill in the x- and y- axis. However, we have left the y-axis blank for you to fill in with a suitable name, for example 'Animal' or 'Species'."
   ]
  },
  {
   "cell_type": "code",
   "execution_count": null,
   "metadata": {},
   "outputs": [],
   "source": [
    "fig, ax = plt.subplots(figsize=(10, 8))\n",
    "oldest_animals.plot(kind='barh', x='Common name', y='Maximum longevity (yrs)', ax=ax, color='black')\n",
    "ax.set_xlabel('Maximum Longevity (years)')\n",
    "ax.set_ylabel('Common Name')\n",
    "plt.show()"
   ]
  },
  {
   "attachments": {},
   "cell_type": "markdown",
   "metadata": {},
   "source": [
    "We have now created a simple plot of animal longevity!\n",
    "\n",
    "<br><br>"
   ]
  },
  {
   "attachments": {},
   "cell_type": "markdown",
   "metadata": {},
   "source": [
    "### Make it pretty"
   ]
  },
  {
   "attachments": {},
   "cell_type": "markdown",
   "metadata": {},
   "source": [
    "Our graph above looks quite good but we might want to customise it more to our liking. We could first change the colours. We do this by passing an additional 'argument' to our command `plt` to let it know the colours we want to use. An example of changing all the colours of our graph is below. (Note: the spelling of 'colour' is American in python).\n",
    "\n",
    "We have also added a title to our graph to explain what we are seeing."
   ]
  },
  {
   "cell_type": "code",
   "execution_count": null,
   "metadata": {},
   "outputs": [],
   "source": [
    "fig, ax = plt.subplots(figsize=(10, 8))\n",
    "oldest_animals.plot(kind='barh', x='Common name', y='Maximum longevity (yrs)', ax=ax, color='black')\n",
    "ax.set_title('Top 12 Longest-Lived Animals')\n",
    "ax.set_xlabel('Maximum Longevity (years)')\n",
    "ax.set_ylabel('Common Name')\n",
    "plt.show()"
   ]
  },
  {
   "attachments": {},
   "cell_type": "markdown",
   "metadata": {},
   "source": [
    "<br>\n",
    "\n",
    "You can use any colours you like to customise the graph. You just have to change the name of the colours inside the 'color' argument. The ones below all come included with matplotlib.\n",
    "\n",
    "<br>\n",
    "<center>\n",
    "\n",
    "<img src=\"https://github.com/ejjohnson93/outreach_jupyter/blob/main/images/colours.png?raw=true\" alt=\"Alternative text\" width=\"600\"/>\n",
    "\n",
    "</center>\n",
    "\n",
    "<br>\n",
    "\n",
    "As well as the colours that come included, matplotlib lets you to pick any colour using a **hexcode** (a 6 character number/letter code after a hash/#).\n",
    "\n",
    "We can create hexcodes for colours using some of these links:\n",
    "\n",
    "- <https://htmlcolorcodes.com/color-picker/>\n",
    "- https://color.adobe.com/create/color-wheel\n",
    "- https://www.colorhexa.com/6738c9\n",
    "- <https://imagecolorpicker.com/en>\n",
    "\n",
    "The last link will allow you to create a colour palette from an image and give you the hex codes for the palette.\n",
    "\n",
    "<br>\n",
    "<center>\n",
    "\n",
    "<img src=\"https://github.com/ejjohnson93/outreach_jupyter/blob/main/images/paleete.png?raw=true\" alt=\"Alternative text\" width=\"500\"/>\n",
    "\n",
    "</center>\n",
    "\n",
    "<br>\n",
    "\n",
    "\n"
   ]
  },
  {
   "attachments": {},
   "cell_type": "markdown",
   "metadata": {},
   "source": [
    "\n",
    " ><b>Challenges</b><br><br>\n",
    " >  3.  Can you change the colours of the graph using the inbuilt colour names in matplotlib? <br>\n",
    " >  4.  Can you change the colours using hexcodes instead? Maybe you could pick colours that remind you of the animals? If you're unsure what they look like then use Google to check. Otherwise, just select colours you like. ☺ <br>"
   ]
  },
  {
   "cell_type": "code",
   "execution_count": null,
   "metadata": {},
   "outputs": [],
   "source": [
    "fig, ax = plt.subplots(figsize=(10, 8))\n",
    "oldest_animals.plot(kind='barh', x='Common name', y='Maximum longevity (yrs)', ax=ax, color='skyblue')\n",
    "ax.set_title('Top 12 Longest-Lived Animals')\n",
    "ax.set_xlabel('Maximum Longevity (years)')\n",
    "ax.set_ylabel('Common Name')\n",
    "plt.show()"
   ]
  },
  {
   "cell_type": "code",
   "execution_count": null,
   "metadata": {},
   "outputs": [],
   "source": [
    "fig, ax = plt.subplots(figsize=(10, 8))\n",
    "oldest_animals.plot(kind='barh', x='Common name', y='Maximum longevity (yrs)', ax=ax, color='#9900ff')\n",
    "ax.set_title('Top 12 Longest-Lived Animals')\n",
    "ax.set_xlabel('Maximum Longevity (years)')\n",
    "ax.set_ylabel('Common Name')\n",
    "plt.show()"
   ]
  },
  {
   "attachments": {},
   "cell_type": "markdown",
   "metadata": {},
   "source": [
    "Another way we can modify our graph is by using a different 'theme'. Themes are different ways of styling the plot, for example background colour, default bar colours, fonts, gridlines, etc. Matplotlib comes with prepared styles that you can use to modify your graph.\n",
    "\n",
    "We can then see a list of which styles we can use using this code:\n"
   ]
  },
  {
   "cell_type": "code",
   "execution_count": null,
   "metadata": {},
   "outputs": [],
   "source": [
    "from matplotlib import style\n",
    "print(style.available)"
   ]
  },
  {
   "attachments": {},
   "cell_type": "markdown",
   "metadata": {},
   "source": [
    "An example of one of the styles applied to our graph is below:"
   ]
  },
  {
   "cell_type": "code",
   "execution_count": null,
   "metadata": {},
   "outputs": [],
   "source": [
    "plt.style.use('ggplot')\n",
    "fig, ax = plt.subplots(figsize=(10, 8))\n",
    "oldest_animals.plot(kind='barh', x='Common name', y='Maximum longevity (yrs)', ax=ax, color='skyblue')\n",
    "ax.set_title('Top 12 Longest-Lived Animals')\n",
    "ax.set_xlabel('Maximum Longevity (years)')\n",
    "ax.set_ylabel('Common Name')\n",
    "plt.show()"
   ]
  },
  {
   "attachments": {},
   "cell_type": "markdown",
   "metadata": {},
   "source": [
    "\n",
    "\n",
    "<br>\n",
    "\n",
    "\n",
    " ><b>Challenges</b><br><br>\n",
    " >5. Pick a style! Apply it to your graph instead of the one used in the example above. Try a few, which do you like best? <br>\n",
    " >6. Can you include a theme AND your custom colours? <br>\n",
    "\n"
   ]
  },
  {
   "cell_type": "code",
   "execution_count": null,
   "metadata": {},
   "outputs": [],
   "source": [
    "plt.style.use('petroff10')\n",
    "fig, ax = plt.subplots(figsize=(10, 8))\n",
    "oldest_animals.plot(kind='barh', x='Common name', y='Maximum longevity (yrs)', ax=ax, color='skyblue')\n",
    "ax.set_title('Top 12 Longest-Lived Animals')\n",
    "ax.set_xlabel('Maximum Longevity (years)')\n",
    "ax.set_ylabel('Common Name')\n",
    "plt.show()"
   ]
  },
  {
   "cell_type": "code",
   "execution_count": null,
   "metadata": {},
   "outputs": [],
   "source": [
    "plt.style.use('ggplot')\n",
    "fig, ax = plt.subplots(figsize=(10, 8))\n",
    "oldest_animals.plot(kind='barh', x='Common name', y='Maximum longevity (yrs)', ax=ax, color='#04d4ff')\n",
    "ax.set_title('Top 12 Longest-Lived Animals')\n",
    "ax.set_xlabel('Maximum Longevity (years)')\n",
    "ax.set_ylabel('Common Name')\n",
    "plt.show()"
   ]
  },
  {
   "cell_type": "markdown",
   "metadata": {},
   "source": [
    "If you don't want to use a theme and prefer the default appearance, you can change it back at any time by running this block of code. "
   ]
  },
  {
   "cell_type": "code",
   "execution_count": null,
   "metadata": {},
   "outputs": [],
   "source": [
    "plt.style.use('classic')\n",
    "fig, ax = plt.subplots(figsize=(10, 8))\n",
    "oldest_animals.plot(kind='barh', x='Common name', y='Maximum longevity (yrs)', ax=ax, color='orange')\n",
    "ax.set_title('Top 12 Longest-Lived Animals')\n",
    "ax.set_xlabel('Maximum Longevity (years)')\n",
    "ax.set_ylabel('Common Name')\n",
    "plt.show()"
   ]
  },
  {
   "cell_type": "markdown",
   "metadata": {},
   "source": [
    "### To finish\n",
    "\n",
    "<br>\n",
    "    <b>Final challenge</b><br><br>\n",
    "    7. Now, using everything we've learned, can you modify the code to create a plot of the *shortest-lived* animals in the dataset - remember that earlier in the activity we created a variable storing the data called `shortest_lived_animals`.\n",
    "    <br>\n",
    "    Don't worry if this part proves tricky and ask the teachers for help at any point if you get stuck!\n",
    "\n",
    "\n",
    "Well done! You have now learned how to create a plot using Python!"
   ]
  },
  {
   "cell_type": "markdown",
   "metadata": {},
   "source": [
    "## Advanced/additional activities"
   ]
  },
  {
   "cell_type": "markdown",
   "metadata": {},
   "source": [
    "Click [here](https://cbflivuni.github.io/animal_ageing/02_advanced_activities.html) to access the instructions for the advanced activities.\n",
    "\n",
    "This section is entirely optional and you should only attempt it if you have completed all the challenges above!\n",
    "\n",
    "When we first looked at our dataset at the start it had columns containing extra information. One column of interest is \"type\", which lets us know what type of animal they are (mammal, reptile, etc). Let's manually inspect what type of animal the longest-lived animals are..."
   ]
  },
  {
   "cell_type": "code",
   "execution_count": null,
   "metadata": {},
   "outputs": [],
   "source": [
    "longest_animal_types = oldest_animals[\"Type\"].value_counts()\n",
    "print(\"Types of the longest-lived animals:\")\n",
    "print(longest_animal_types)"
   ]
  },
  {
   "cell_type": "markdown",
   "metadata": {},
   "source": [
    "Are there any of these you haven't heard of before?\n",
    "\n",
    " For example, echinoids are animals that have a spikey hard shell. Echinoids evolved about 450 million years ago, which is about 220 million years before first dinosaurs appeared! Today we would commonly think of them as 'sea urchins' but there are plenty of fossils of ancient echinoids. Below is an artist's rendition of one vs some red and black sea urchins. \n",
    "\n",
    "<br>\n",
    "<center>\n",
    "\n",
    "<img src=\"images/urchins.png\" alt=\"Echinoids\"/>\n",
    "\n",
    "</center>\n",
    "<br>\n",
    "\n",
    "It would be useful to colour our graph by the different animal types. This would give our colours more meaning and also allow us to see if there are any patterns in the data. First, we will store all the unique types of animals in a new variable called 'types'. We can print 'types' to see what this includes. "
   ]
  },
  {
   "cell_type": "code",
   "execution_count": null,
   "metadata": {},
   "outputs": [],
   "source": [
    "types = data[\"Type\"].value_counts()\n",
    "print(\"Types of animals in the dataset:\")\n",
    "print(types)"
   ]
  },
  {
   "cell_type": "markdown",
   "metadata": {},
   "source": [
    "Now we are going to create a colour map for the different types of animals. \n",
    "\n",
    "This code is a little more complex so don't try to understand all of it. To summarise, we first manually create a colour map for our different types of animals. Then we create a 'list', which is a type of information Python can work with to set the colours. "
   ]
  },
  {
   "cell_type": "code",
   "execution_count": null,
   "metadata": {},
   "outputs": [],
   "source": [
    "unique_types = oldest_animals[\"Type\"].unique()\n",
    "colors = plt.cm.get_cmap('tab10', len(unique_types))\n",
    "type_color_map = {unique_types[i]: colors(i) for i in range(len(unique_types))}\n",
    "longest_animal_colors = [type_color_map[t] for t in oldest_animals[\"Type\"]]"
   ]
  },
  {
   "cell_type": "markdown",
   "metadata": {},
   "source": [
    "We can then use our colour map in our plotting code. This includes an aditional step where we manually add a legend too so we can see which colour corresponds to which type of animal."
   ]
  },
  {
   "cell_type": "code",
   "execution_count": null,
   "metadata": {},
   "outputs": [],
   "source": [
    "fig, ax = plt.subplots(figsize=(10, 8))\n",
    "oldest_animals.plot(kind='barh', x='Common name', y='Maximum longevity (yrs)', ax=ax, color=longest_animal_colors)\n",
    "ax.set_title('Top 12 Longest-Lived Animals')\n",
    "ax.set_xlabel('Maximum Longevity (years)')\n",
    "ax.set_ylabel('Common Name')\n",
    "handles = [plt.Line2D([0], [0], color=type_color_map[t], lw=4) for t in unique_types]\n",
    "ax.legend(handles, unique_types, title='Type of Animal', bbox_to_anchor=(1.05, 1), loc='upper left')\n",
    "plt.show()"
   ]
  },
  {
   "cell_type": "markdown",
   "metadata": {},
   "source": [
    "From this, we can see that many of the most long-lived animals in our dataset are mammals, in particular whales and humans! The longest-lived animal is a mollusc, but there is only one of them.\n",
    "\n",
    "The full code to generate the graph is below:"
   ]
  },
  {
   "cell_type": "code",
   "execution_count": null,
   "metadata": {},
   "outputs": [],
   "source": [
    "types = oldest_animals[\"Type\"].value_counts()\n",
    "unique_types = oldest_animals[\"Type\"].unique()\n",
    "colors = plt.cm.get_cmap('tab10', len(unique_types))\n",
    "type_color_map = {unique_types[i]: colors(i) for i in range(len(unique_types))}\n",
    "longest_animal_colors = [type_color_map[t] for t in oldest_animals[\"Type\"]]\n",
    "\n",
    "fig, ax = plt.subplots(figsize=(10, 8))\n",
    "oldest_animals.plot(kind='barh', x='Common name', y='Maximum longevity (yrs)', ax=ax, color=longest_animal_colors)\n",
    "ax.set_title('Top 12 Longest-Lived Animals')\n",
    "ax.set_xlabel('Maximum Longevity (years)')\n",
    "ax.set_ylabel('Common Name')\n",
    "handles = [plt.Line2D([0], [0], color=type_color_map[t], lw=4) for t in unique_types]\n",
    "ax.legend(handles, unique_types, title='Type of Animal', bbox_to_anchor=(1.05, 1), loc='upper left')\n",
    "plt.show()"
   ]
  },
  {
   "cell_type": "markdown",
   "metadata": {},
   "source": [
    "> <b>Challenge 1:</b> Using the above code, can you modify the colour map and assign your own colours to the types of animals?\n",
    "\n",
    "> <b>Challenge 2:</b> Can you repeat the same steps as above to colour code the data for the shortest-lived animals?"
   ]
  },
  {
   "cell_type": "code",
   "execution_count": null,
   "metadata": {},
   "outputs": [],
   "source": [
    "manual_colors = {\n",
    "    \"Molluscs\": \"#FF5733\",\n",
    "    \"Fish\": \"#33FF57\",\n",
    "    \"Mammals\": \"#3357FF\",\n",
    "    \"Echinoids\": \"#F1C40F\",\n",
    "    \"Reptiles\": \"#8E44AD\",\n",
    "    \"Arthropods\": \"#E67E22\",\n",
    "    \"Birds\": \"#2ECC71\",\n",
    "    \"Amphibians\": \"#3498DB\"\n",
    "}\n",
    "\n",
    "unique_types = oldest_animals[\"Type\"].unique()\n",
    "type_color_map = {t: manual_colors[t] for t in unique_types if t in manual_colors}\n",
    "longest_animal_colors = [manual_colors[t] for t in oldest_animals[\"Type\"] if t in manual_colors]\n",
    "\n",
    "fig, ax = plt.subplots(figsize=(10, 8))\n",
    "oldest_animals.plot(kind='barh', x='Common name', y='Maximum longevity (yrs)', ax=ax, color=longest_animal_colors)\n",
    "ax.set_title('Top 12 Longest-Lived Animals')\n",
    "ax.set_xlabel('Maximum Longevity (years)')\n",
    "ax.set_ylabel('Common Name')\n",
    "handles = [plt.Line2D([0], [0], color=type_color_map[t], lw=4) for t in unique_types if t in type_color_map]\n",
    "ax.legend(handles, unique_types, title='Type of Animal', bbox_to_anchor=(1.05, 1), loc='upper left')\n",
    "plt.show()"
   ]
  },
  {
   "cell_type": "code",
   "execution_count": null,
   "metadata": {},
   "outputs": [],
   "source": [
    "# Challenge 2 - check what types of animals there are\n",
    "types = shortest_lived_animal[\"Type\"].value_counts()\n",
    "print(\"Types of the shortest-lived animals:\")\n",
    "print(types)"
   ]
  },
  {
   "cell_type": "code",
   "execution_count": null,
   "metadata": {},
   "outputs": [],
   "source": [
    "unique_types = shortest_lived_animal[\"Type\"].unique()\n",
    "colors = plt.cm.get_cmap('tab10', len(unique_types))\n",
    "type_color_map = {unique_types[i]: colors(i) for i in range(len(unique_types))}\n",
    "shortest_animal_colors = [type_color_map[t] for t in shortest_lived_animal[\"Type\"]]\n",
    "\n",
    "fig, ax = plt.subplots(figsize=(10, 8))\n",
    "shortest_lived_animal.plot(kind='barh', x='Common name', y='Maximum longevity (yrs)', ax=ax, color=shortest_animal_colors)\n",
    "ax.set_title('Top 12 Shortest-Lived Animals')\n",
    "ax.set_xlabel('Maximum Longevity (years)')\n",
    "ax.set_ylabel('Common Name')\n",
    "handles = [plt.Line2D([0], [0], color=type_color_map[t], lw=4) for t in unique_types]\n",
    "ax.legend(handles, unique_types, title='Type of Animal', bbox_to_anchor=(1.05, 1), loc='upper left')\n",
    "plt.show()"
   ]
  },
  {
   "cell_type": "markdown",
   "metadata": {},
   "source": [
    "If you got this far then well done, that concludes all of our activities! "
   ]
  }
 ],
 "metadata": {
  "kernelspec": {
   "display_name": "biorsp-ismb",
   "language": "python",
   "name": "python3"
  },
  "language_info": {
   "codemirror_mode": {
    "name": "ipython",
    "version": 3
   },
   "file_extension": ".py",
   "mimetype": "text/x-python",
   "name": "python",
   "nbconvert_exporter": "python",
   "pygments_lexer": "ipython3",
   "version": "3.13.5"
  },
  "orig_nbformat": 4
 },
 "nbformat": 4,
 "nbformat_minor": 2
}
